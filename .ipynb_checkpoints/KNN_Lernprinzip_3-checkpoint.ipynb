{
 "cells": [
  {
   "cell_type": "code",
   "execution_count": null,
   "metadata": {},
   "outputs": [],
   "source": [
    "#Bibliothek pandas zur Datenverarbeitung importieren\n",
    "import pandas as pd\n",
    "\n",
    "#Bibliothek numpy für Berechnungen importieren\n",
    "import numpy as np\n",
    "from numpy import tanh\n",
    "\n",
    "#Bibliotheken plotly und cufflinks zur Datenvisualisierung importieren\n",
    "from plotly.offline import iplot\n",
    "import plotly.graph_objects as go\n",
    "import cufflinks as cf\n",
    "cf.go_offline()\n",
    "\n",
    "#Ein quadratsiches Layout für plotly-Graphiken wird definiert \n",
    "square_layout_scatter = go.Layout(xaxis={'title':'Breite','range':[-0.01,1.01]},\n",
    "                   yaxis={'title':'Länge','range':[-0.01,1.01]},\n",
    "                   height=810,\n",
    "                   width=810)\n",
    "square_layout_heatmap = go.Layout(xaxis={'title':'Breite','range':[-0.01,1.01]},\n",
    "                   yaxis={'title':'Länge','range':[-0.01,100.01]},\n",
    "                   height=810, width=810)"
   ]
  },
  {
   "cell_type": "markdown",
   "metadata": {},
   "source": [
    "# Anwendungsbeispiel"
   ]
  },
  {
   "cell_type": "markdown",
   "metadata": {},
   "source": [
    "Wir schauen uns wieder unser bekanntes Anwendungbeispiel an, aber wollen in diesem Notebook unser ausgereiftes Lernprinzip ausprobieren."
   ]
  },
  {
   "cell_type": "code",
   "execution_count": null,
   "metadata": {},
   "outputs": [],
   "source": [
    "#Importiere Daten\n",
    "df_käfer = pd.read_csv('Käfer.csv', sep=';')\n"
   ]
  },
  {
   "cell_type": "code",
   "execution_count": null,
   "metadata": {},
   "outputs": [],
   "source": [
    "#Viusalisiere Daten\n",
    "df_käfer.iplot('scatter', mode='markers', \n",
    "               x='Breite', xTitle ='Breite', \n",
    "               y='Länge', yTitle = 'Länge', \n",
    "               categories= 'Insekt',\n",
    "               layout = square_layout_scatter)"
   ]
  },
  {
   "cell_type": "markdown",
   "metadata": {},
   "source": [
    "Wir erzeugen einen Datensatz <code>df_käfer_num</code>, in dem nicht die Käferbezeichnungen, sondern die numerischen targets angegeben werden."
   ]
  },
  {
   "cell_type": "code",
   "execution_count": null,
   "metadata": {},
   "outputs": [],
   "source": [
    "#Erzeuge numerische Daten\n",
    "df_käfer_num = df_käfer.replace(['Raupe','Marienkäfer'],[-1,1])\n",
    "\n",
    "df_käfer_num.head()"
   ]
  },
  {
   "cell_type": "code",
   "execution_count": null,
   "metadata": {},
   "outputs": [],
   "source": []
  },
  {
   "cell_type": "markdown",
   "metadata": {},
   "source": [
    "# Initialisieren des Neuronalen Netzwerks"
   ]
  },
  {
   "cell_type": "markdown",
   "metadata": {},
   "source": [
    "Wir setzen wieder in gewohnter Form ein KNN auf, allerdings nutzen wir diesmal etwas willkürlichere Anfangskantengewichte. Wir achten lediglich darauf, dass die Kantengewichte relativ nah an der 0 liegen. Das ist vorteilhaft für den Lernprozess, da wir nicht wissen welche Gewichte am Ende einen positiven und welche einen negativen Wert bekommen. "
   ]
  },
  {
   "cell_type": "code",
   "execution_count": null,
   "metadata": {},
   "outputs": [],
   "source": [
    "#Festlegung der Kantengewichte\n",
    "w1 = 0.1\n",
    "\n",
    "w2 = 0.1\n",
    "\n",
    "w3 = -0.1\n"
   ]
  },
  {
   "cell_type": "code",
   "execution_count": null,
   "metadata": {},
   "outputs": [],
   "source": [
    "#Funktion für den Output des KNN \n",
    "def knn_output(x1, x2): \n",
    "    z = tanh(w1*x1+w2*x2)\n",
    "    y = tanh(w3*z)\n",
    "    return y"
   ]
  },
  {
   "cell_type": "code",
   "execution_count": null,
   "metadata": {
    "code_folding": []
   },
   "outputs": [],
   "source": [
    "#Bibliothek zur Visualisierung neuronaler Netzwerke\n",
    "from Manual.lib.PrintNetwork import print_network\n",
    "\n",
    "#Gewichte in Matrixdarstellung bringen \n",
    "gewichte_matrix = [pd.DataFrame(data={'in_1': [w1], 'in_2': [w2]}, index=['h_1']),\n",
    "                   pd.DataFrame(data={'h_1': [w3]}, index=['out'])]\n",
    "\n",
    "#Visualisiere das Neuronale Netzwerks\n",
    "print_network([2, 1, 1], gewichte_matrix, ['out'], 2)"
   ]
  },
  {
   "cell_type": "markdown",
   "metadata": {},
   "source": [
    "Wenn man die folgende Heatmap mit unserem Datensatz vergleicht ist zu sehen ist, dass das KNN mit den gewählten Kantengewichten nicht sehr gut funktioniert."
   ]
  },
  {
   "cell_type": "code",
   "execution_count": null,
   "metadata": {
    "code_folding": []
   },
   "outputs": [],
   "source": [
    "#Heatmap erstellen\n",
    "heatmap = pd.DataFrame()\n",
    "\n",
    "for x in range(100):\n",
    "    heatmap[str(x/100)] = [knn_output(y/100,x/100) for y in range(100)]\n",
    "heatmap.index = [y/100 for y in range(100)]\n",
    "\n",
    "#Heatmap visualisieren\n",
    "heatmap.iplot('heatmap', xTitle='Breite', yTitle ='Länge', colorscale = 'RdBu', \n",
    "              layout = square_layout_heatmap, zmax = 0.05, zmin= -0.05)"
   ]
  },
  {
   "cell_type": "markdown",
   "metadata": {},
   "source": [
    "Bevor wir das KNN lernen lassen, schreiben wir noch eine Funktion, um den Anteil der korrekten Klassifikationen berechnen zu können. Dies wird wie gewohnt umgesetzt. Dabei wird ein Output größer gleich Null als Klasse 'Marienkäfer' interpretiert und ein Output kleiner Null als Klasse 'Raupe'. "
   ]
  },
  {
   "cell_type": "code",
   "execution_count": null,
   "metadata": {
    "scrolled": false
   },
   "outputs": [],
   "source": [
    "#Funktion, die den Anteil der korrekten Klassifikationen berechnet\n",
    "def accuracy():\n",
    "    vorhersagen_liste = []\n",
    "\n",
    "    for i in range(len(df_käfer)):\n",
    "\n",
    "        output = knn_output(df_käfer.iloc[i]['Breite'],df_käfer.iloc[i]['Länge'])\n",
    "\n",
    "        if output >= 0:\n",
    "            vorhersagen_liste.append('Marienkäfer')\n",
    "        elif output < 0:\n",
    "            vorhersagen_liste.append('Raupe')\n",
    "\n",
    "    df_käfer_test = df_käfer.copy()\n",
    "    df_käfer_test['Vorhersagen'] = vorhersagen_liste\n",
    "\n",
    "    print('Anteil richtiger Vorhersagen:', sum(df_käfer_test['Insekt'] == df_käfer_test['Vorhersagen'])/len(df_käfer_test))\n",
    "\n",
    "accuracy()"
   ]
  },
  {
   "cell_type": "markdown",
   "metadata": {},
   "source": [
    "Nur 50 % der Beispiele werden richtig klassifiziert. D. h. das KNN ist aktuell so gut wie ein Zufallsgenerator der das Ergebnis rät. "
   ]
  },
  {
   "cell_type": "markdown",
   "metadata": {},
   "source": [
    "# Definieren des Lernverfahrens"
   ]
  },
  {
   "cell_type": "markdown",
   "metadata": {},
   "source": [
    "Nun wollen wir die alles entscheidende Funktion für das Lernen bzw. das anapassen der Gewichte definieren."
   ]
  },
  {
   "cell_type": "markdown",
   "metadata": {},
   "source": [
    "In den folgenden Zellen werden zunächst die Lernrate und dann die Funktion für das anpassen der Kantengewichte definiert. Dafür werden die an der Tafel hergeleiteten Aktualisierungsregeln genutzt."
   ]
  },
  {
   "cell_type": "code",
   "execution_count": null,
   "metadata": {},
   "outputs": [],
   "source": [
    "#Lernrate\n",
    "lr = 0.03"
   ]
  },
  {
   "cell_type": "code",
   "execution_count": null,
   "metadata": {},
   "outputs": [],
   "source": [
    "#Funktion für  das Update der Gewichte \n",
    "#Input x1: Breite; x2: Länge; t: target; w1, w2, w3 : Kantengewichte\n",
    "\n",
    "def gewichte_update(x1, x2, t ,w1, w2, w3):\n",
    "    \n",
    "    #Berechnung der Neuronenaktivierung bis zum Output\n",
    "    z = tanh(w1*x1+w2*x2)\n",
    "    y = tanh(w3*z)\n",
    "    \n",
    "    #Aktualisierung der Gewichte\n",
    "    w1 += lr*w3*(t-y)*(1.0-z**2)*x1    \n",
    "    w2 += lr*w3*(t-y)*(1.0-z**2)*x2    \n",
    "    w3 += lr*(t-y)*(1.0-y**2)*z        \n",
    "    \n",
    "    return w1, w2, w3"
   ]
  },
  {
   "cell_type": "markdown",
   "metadata": {},
   "source": [
    "# Lernprozess \n",
    "\n",
    "## (1. Epoche)"
   ]
  },
  {
   "cell_type": "markdown",
   "metadata": {},
   "source": [
    "In der folgenden Zelle werden alle Beispiele aus dem Datensatz einmal betrachtet und zur Aktualisierung der Gewichte genutzt. \n",
    "\n",
    "Dies nennt man eine **Epoche** des Lernprozesses des KNN."
   ]
  },
  {
   "cell_type": "code",
   "execution_count": null,
   "metadata": {},
   "outputs": [],
   "source": [
    "#Aktualisieren der Gewichte \n",
    "for j in range(len(df_käfer_num)):\n",
    "\n",
    "    x1 = df_käfer_num.iloc[j][0]\n",
    "    x2 = df_käfer_num.iloc[j][1]\n",
    "    t = df_käfer_num.iloc[j][2]\n",
    "\n",
    "    w1, w2, w3 = gewichte_update(x1, x2, t, w1, w2, w3)"
   ]
  },
  {
   "cell_type": "markdown",
   "metadata": {},
   "source": [
    "Lass dir die aktualisierten Kantengewichte, die Visualisierung des Netzes und die Output-Heatmap in den folgenden drei Zellen anzeigen:"
   ]
  },
  {
   "cell_type": "code",
   "execution_count": null,
   "metadata": {
    "scrolled": true
   },
   "outputs": [],
   "source": [
    "#Anzeigen der Gewichte\n",
    "display(w1, w2, w3)"
   ]
  },
  {
   "cell_type": "code",
   "execution_count": null,
   "metadata": {},
   "outputs": [],
   "source": [
    "#Gewichte in Matrixdarstellung bringen \n",
    "gewichte_matrix = [pd.DataFrame(data={'in_1': [w1], 'in_2': [w2]}, index=['h_1']),\n",
    "                   pd.DataFrame(data={'h_1': [w3]}, index=['out'])]\n",
    "\n",
    "#Visualisiere das Neuronale Netzwerks\n",
    "print_network([2, 1, 1], gewichte_matrix, ['out'], 2)"
   ]
  },
  {
   "cell_type": "code",
   "execution_count": null,
   "metadata": {
    "scrolled": false
   },
   "outputs": [],
   "source": [
    "#Heatmap erstellen\n",
    "heatmap=pd.DataFrame()\n",
    "\n",
    "for x in range(100):\n",
    "    heatmap[str(x/100)] = [knn_output(y/100,x/100) for y in range(100)]\n",
    "heatmap.index = [y/100 for y in range(100)]\n",
    "\n",
    "#Heatmap visualisieren\n",
    "heatmap.iplot('heatmap', xTitle='Breite', yTitle ='Länge',colorscale = 'RdBu', \n",
    "              layout = square_layout_heatmap, zmax = 0.1, zmin= -0.1)"
   ]
  },
  {
   "cell_type": "code",
   "execution_count": null,
   "metadata": {},
   "outputs": [],
   "source": [
    "accuracy()"
   ]
  },
  {
   "cell_type": "markdown",
   "metadata": {},
   "source": [
    "<div class=\"panel panel-info\">\n",
    "    <div class=\"panel-heading\">\n",
    "        <b>Aufgabe</b>\n",
    "    </div>\n",
    "    <div class=\"panel-body\">\n",
    "Die erste Lernepoche wurde absolviert. Vergleiche den Anteil der richtigen Vorhersagen (Accuracy) vor und nach der Epoche. Ist das KNN deutlich besser geworden? \n",
    "\n",
    "Vergleiche die Output-Heatmap mit der Heatmap weiter oben (Ausgangszustand). Was fällt auf?\n",
    "    </div> \n",
    "</div>\n",
    "\n",
    "\n"
   ]
  },
  {
   "cell_type": "markdown",
   "metadata": {},
   "source": [
    "ANTWORT HIER EINFÜGEN"
   ]
  },
  {
   "cell_type": "markdown",
   "metadata": {},
   "source": [
    "## (2. Epoche)"
   ]
  },
  {
   "cell_type": "markdown",
   "metadata": {},
   "source": [
    "Eine Epoche reicht häufig nicht aus, da bei jeder Gewichtsaktualsierung nur eine sehr kleine Änderung vorgenommen wird. Somit werden die Daten erneut geutzt, um weitere Epoche im Lernprozess durchzuführen. "
   ]
  },
  {
   "cell_type": "markdown",
   "metadata": {},
   "source": [
    "<div class=\"panel panel-info\">\n",
    "    <div class=\"panel-heading\">\n",
    "        <b>Aufgabe</b>\n",
    "    </div>\n",
    "    <div class=\"panel-body\">\n",
    "Führe die weiteren Epochen des Lernprozesses wie oben durch und beobachte jeweils die Veränderung der Kantengewichte, die Änderung der Output-Heatmap und die Änderung in der Vorhersagegenauigkeit (Accruracy).\n",
    "\n",
    "Beschreibe nach jeder Epoche, welche Veränderungen festzustellen sind.\n",
    "    </div> \n",
    "</div>\n",
    "\n",
    "\n",
    "\n"
   ]
  },
  {
   "cell_type": "code",
   "execution_count": null,
   "metadata": {},
   "outputs": [],
   "source": [
    "#Aktualisieren der Gewichte \n",
    "for j in range(len(df_käfer_num)):\n",
    "\n",
    "    x1=df_käfer_num.iloc[j][0]\n",
    "    x2=df_käfer_num.iloc[j][1]\n",
    "    t=df_käfer_num.iloc[j][2]\n",
    "\n",
    "    w1, w2, w3 = gewichte_update(x1, x2, t, w1, w2, w3)"
   ]
  },
  {
   "cell_type": "code",
   "execution_count": null,
   "metadata": {
    "scrolled": true
   },
   "outputs": [],
   "source": [
    "#Anzeigen der Gewichte\n",
    "display(w1, w2, w3)"
   ]
  },
  {
   "cell_type": "code",
   "execution_count": null,
   "metadata": {},
   "outputs": [],
   "source": [
    "#Gewichte in Matrixdarstellung bringen \n",
    "gewichte_matrix = [pd.DataFrame(data={'in_1': [w1], 'in_2': [w2]}, index=['h_1']),\n",
    "                   pd.DataFrame(data={'h_1': [w3]}, index=['out'])]\n",
    "\n",
    "#Visualisiere das Neuronale Netzwerks\n",
    "print_network([2, 1, 1], gewichte_matrix, ['out'], 2)"
   ]
  },
  {
   "cell_type": "code",
   "execution_count": null,
   "metadata": {
    "scrolled": false
   },
   "outputs": [],
   "source": [
    "#Heatmap erstellen\n",
    "heatmap=pd.DataFrame()\n",
    "\n",
    "for x in range(100):\n",
    "    heatmap[str(x/100)] = [knn_output(y/100,x/100) for y in range(100)]\n",
    "heatmap.index = [y/100 for y in range(100)]\n",
    "\n",
    "#Heatmap visualisieren\n",
    "heatmap.iplot('heatmap', xTitle='Breite', yTitle ='Länge', colorscale = 'RdBu', \n",
    "              layout = square_layout_heatmap, zmax = 0.3, zmin= -0.3)"
   ]
  },
  {
   "cell_type": "code",
   "execution_count": null,
   "metadata": {},
   "outputs": [],
   "source": [
    "accuracy()"
   ]
  },
  {
   "cell_type": "markdown",
   "metadata": {},
   "source": [
    "BESCHREIBUNG DER VERÄNDERUNGEN HIER EINFÜGEN"
   ]
  },
  {
   "cell_type": "markdown",
   "metadata": {},
   "source": [
    "## (3. Epoche)"
   ]
  },
  {
   "cell_type": "code",
   "execution_count": null,
   "metadata": {},
   "outputs": [],
   "source": [
    "#Aktualisieren der Gewichte \n",
    "for j in range(len(df_käfer_num)):\n",
    "\n",
    "    x1=df_käfer_num.iloc[j][0]\n",
    "    x2=df_käfer_num.iloc[j][1]\n",
    "    t=df_käfer_num.iloc[j][2]\n",
    "\n",
    "    w1, w2, w3 = gewichte_update(x1, x2, t, w1, w2, w3)"
   ]
  },
  {
   "cell_type": "code",
   "execution_count": null,
   "metadata": {
    "scrolled": true
   },
   "outputs": [],
   "source": [
    "#Anzeigen der Gewichte\n",
    "display(w1, w2, w3)"
   ]
  },
  {
   "cell_type": "code",
   "execution_count": null,
   "metadata": {},
   "outputs": [],
   "source": [
    "#Gewichte in Matrixdarstellung bringen \n",
    "gewichte_matrix = [pd.DataFrame(data={'in_1': [w1], 'in_2': [w2]}, index=['h_1']),\n",
    "                   pd.DataFrame(data={'h_1': [w3]}, index=['out'])]\n",
    "\n",
    "#Visualisiere das Neuronale Netzwerks\n",
    "print_network([2, 1, 1], gewichte_matrix, ['out'], 2)"
   ]
  },
  {
   "cell_type": "code",
   "execution_count": null,
   "metadata": {
    "scrolled": false
   },
   "outputs": [],
   "source": [
    "#Heatmap erstellen\n",
    "heatmap=pd.DataFrame()\n",
    "\n",
    "for x in range(100):\n",
    "    heatmap[str(x/100)] = [knn_output(y/100,x/100) for y in range(100)]\n",
    "heatmap.index = [y/100 for y in range(100)]\n",
    "\n",
    "#Heatmap visualisieren\n",
    "heatmap.iplot('heatmap', xTitle='Breite', yTitle ='Länge', colorscale = 'RdBu', \n",
    "              layout = square_layout_heatmap, zmax = 1, zmin= -1)"
   ]
  },
  {
   "cell_type": "code",
   "execution_count": null,
   "metadata": {},
   "outputs": [],
   "source": [
    "accuracy()"
   ]
  },
  {
   "cell_type": "code",
   "execution_count": null,
   "metadata": {},
   "outputs": [],
   "source": []
  },
  {
   "cell_type": "markdown",
   "metadata": {},
   "source": [
    "BESCHREIBUNG DER VERÄNDERUNGEN HIER EINFÜGEN"
   ]
  },
  {
   "cell_type": "markdown",
   "metadata": {},
   "source": [
    "## (4. Epoche)"
   ]
  },
  {
   "cell_type": "code",
   "execution_count": null,
   "metadata": {},
   "outputs": [],
   "source": [
    "#Aktualisieren der Gewichte \n",
    "for j in range(len(df_käfer_num)):\n",
    "\n",
    "    x1=df_käfer_num.iloc[j][0]\n",
    "    x2=df_käfer_num.iloc[j][1]\n",
    "    t=df_käfer_num.iloc[j][2]\n",
    "\n",
    "    w1, w2, w3 = gewichte_update(x1, x2, t, w1, w2, w3)"
   ]
  },
  {
   "cell_type": "code",
   "execution_count": null,
   "metadata": {
    "scrolled": true
   },
   "outputs": [],
   "source": [
    "#Anzeigen der Gewichte\n",
    "display(w1, w2, w3)"
   ]
  },
  {
   "cell_type": "code",
   "execution_count": null,
   "metadata": {},
   "outputs": [],
   "source": [
    "#Gewichte in Matrixdarstellung bringen \n",
    "gewichte_matrix = [pd.DataFrame(data={'in_1': [w1], 'in_2': [w2]}, index=['h_1']),\n",
    "                   pd.DataFrame(data={'h_1': [w3]}, index=['out'])]\n",
    "\n",
    "#Visualisiere das Neuronale Netzwerks\n",
    "print_network([2, 1, 1], gewichte_matrix, ['out'], 2)"
   ]
  },
  {
   "cell_type": "code",
   "execution_count": null,
   "metadata": {
    "scrolled": false
   },
   "outputs": [],
   "source": [
    "#Heatmap erstellen\n",
    "heatmap=pd.DataFrame()\n",
    "\n",
    "for x in range(100):\n",
    "    heatmap[str(x/100)] = [knn_output(y/100,x/100) for y in range(100)]\n",
    "heatmap.index = [y/100 for y in range(100)]\n",
    "\n",
    "#Heatmap visualisieren\n",
    "heatmap.iplot('heatmap', xTitle='Breite', yTitle ='Länge', colorscale = 'RdBu', layout = square_layout_heatmap, zmax = 1, zmin= -1)"
   ]
  },
  {
   "cell_type": "code",
   "execution_count": null,
   "metadata": {},
   "outputs": [],
   "source": [
    "accuracy()"
   ]
  },
  {
   "cell_type": "markdown",
   "metadata": {},
   "source": [
    "BESCHREIBUNG DER VERÄNDERUNGEN HIER EINFÜGEN"
   ]
  },
  {
   "cell_type": "markdown",
   "metadata": {},
   "source": [
    "<div class=\"panel panel-info\">\n",
    "    <div class=\"panel-heading\">\n",
    "        <b>Aufgabe</b>\n",
    "    </div>\n",
    "    <div class=\"panel-body\">\n",
    "Sollten noch weitere Epochen durchgeführt werden? Begründe.\n",
    "    </div> \n",
    "</div>\n",
    "\n",
    "\n",
    "\n"
   ]
  },
  {
   "cell_type": "markdown",
   "metadata": {},
   "source": [
    "ANTWORT HIER EINFÜGEN"
   ]
  },
  {
   "cell_type": "code",
   "execution_count": null,
   "metadata": {},
   "outputs": [],
   "source": []
  },
  {
   "cell_type": "code",
   "execution_count": null,
   "metadata": {},
   "outputs": [],
   "source": []
  },
  {
   "cell_type": "code",
   "execution_count": null,
   "metadata": {},
   "outputs": [],
   "source": []
  }
 ],
 "metadata": {
  "kernelspec": {
   "display_name": "Python 3",
   "language": "python",
   "name": "python3"
  },
  "language_info": {
   "codemirror_mode": {
    "name": "ipython",
    "version": 3
   },
   "file_extension": ".py",
   "mimetype": "text/x-python",
   "name": "python",
   "nbconvert_exporter": "python",
   "pygments_lexer": "ipython3",
   "version": "3.8.5"
  },
  "toc": {
   "base_numbering": 1,
   "nav_menu": {},
   "number_sections": true,
   "sideBar": true,
   "skip_h1_title": false,
   "title_cell": "Table of Contents",
   "title_sidebar": "Contents",
   "toc_cell": false,
   "toc_position": {},
   "toc_section_display": true,
   "toc_window_display": true
  }
 },
 "nbformat": 4,
 "nbformat_minor": 2
}
